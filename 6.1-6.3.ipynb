{
 "cells": [
  {
   "cell_type": "code",
   "execution_count": 2,
   "metadata": {},
   "outputs": [
    {
     "name": "stdout",
     "output_type": "stream",
     "text": [
      "Part 6.1: List values [3, 2, 1, 0]\n",
      "3\n",
      "2\n",
      "1\n",
      "0\n",
      "\n",
      "Part 6.2: While loop comparing number with guess_me\n",
      "too low\n",
      "too low\n",
      "too low\n",
      "too low\n",
      "too low\n",
      "too low\n",
      "found it!\n",
      "\n",
      "Part 6.3: For loop iterating over range(10) and comparing with guess_me\n",
      "too low\n",
      "too low\n",
      "too low\n",
      "too low\n",
      "too low\n",
      "found it!\n"
     ]
    }
   ],
   "source": [
    "# 6.1: Print the values of the list [3, 2, 1, 0]\n",
    "print(\"6.1: List values [3, 2, 1, 0]\")\n",
    "for value in [3, 2, 1, 0]:\n",
    "    print(value)\n",
    "\n",
    "print()  # For spacing \n",
    "\n",
    "# 6.2: While loop comparing number with guess_me\n",
    "print(\"6.2: While loop comparing number with guess_me\")\n",
    "guess_me = 7\n",
    "number = 1\n",
    "\n",
    "while True:\n",
    "    if number < guess_me:\n",
    "        print('too low')\n",
    "    elif number == guess_me:\n",
    "        print('found it!')\n",
    "        break\n",
    "    else:\n",
    "        print('oops')\n",
    "        break\n",
    "    number += 1\n",
    "\n",
    "print()  # For spacing \n",
    "\n",
    "# Part 6.3: For loop iterating over range(10) and comparing with guess_me\n",
    "print(\"6.3: For loop iterating over range(10) and comparing with guess_me\")\n",
    "guess_me = 5\n",
    "\n",
    "for number in range(10):\n",
    "    if number < guess_me:\n",
    "        print('too low')\n",
    "    elif number == guess_me:\n",
    "        print('found it!')\n",
    "        break\n",
    "    else:\n",
    "        print('oops')\n",
    "        break\n"
   ]
  }
 ],
 "metadata": {
  "kernelspec": {
   "display_name": "Python 3",
   "language": "python",
   "name": "python3"
  },
  "language_info": {
   "codemirror_mode": {
    "name": "ipython",
    "version": 3
   },
   "file_extension": ".py",
   "mimetype": "text/x-python",
   "name": "python",
   "nbconvert_exporter": "python",
   "pygments_lexer": "ipython3",
   "version": "3.12.5"
  }
 },
 "nbformat": 4,
 "nbformat_minor": 2
}
