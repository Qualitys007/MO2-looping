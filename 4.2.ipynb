{
 "cells": [
  {
   "cell_type": "code",
   "execution_count": null,
   "metadata": {},
   "outputs": [],
   "source": [
    "# 4.2\n",
    "\n",
    "# Assign True or False to small and green\n",
    "small = random.choice([True, False])\n",
    "green = random.choice([True, False])\n",
    "\n",
    "# Logic for matching fruit/vegetable\n",
    "if small and green:\n",
    "    print('pea')\n",
    "elif small and not green:\n",
    "    print('cherry')\n",
    "elif not small and green:\n",
    "    print('watermelon')\n",
    "else:\n",
    "    print('pumpkin')\n",
    "\n",
    "# Display the values for debugging \n",
    "print(f'Small: {small}, Green: {green}')\n"
   ]
  }
 ],
 "metadata": {
  "language_info": {
   "name": "python"
  }
 },
 "nbformat": 4,
 "nbformat_minor": 2
}
