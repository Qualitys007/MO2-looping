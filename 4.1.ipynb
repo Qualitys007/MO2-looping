{
 "cells": [
  {
   "cell_type": "code",
   "execution_count": null,
   "metadata": {},
   "outputs": [],
   "source": [
    "# 4.1: Guessing Game\n",
    "\n",
    "import random\n",
    "\n",
    "# Assign a number between 1 and 10 \n",
    "secret = random.randint(1, 10)\n",
    "guess = random.randint(1, 10)\n",
    "\n",
    "# Conditions for guess\n",
    "if guess < secret:\n",
    "    print('too low')\n",
    "elif guess > secret:\n",
    "    print('too high')\n",
    "else:\n",
    "    print('just right')\n",
    "\n",
    "# Display the values for debugging \n",
    "print(f'Secret: {secret}, Guess: {guess}')\n"
   ]
  }
 ],
 "metadata": {
  "language_info": {
   "name": "python"
  }
 },
 "nbformat": 4,
 "nbformat_minor": 2
}
